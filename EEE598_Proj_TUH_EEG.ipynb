{
  "nbformat": 4,
  "nbformat_minor": 0,
  "metadata": {
    "colab": {
      "provenance": [],
      "include_colab_link": true
    },
    "kernelspec": {
      "name": "python3",
      "display_name": "Python 3"
    },
    "language_info": {
      "name": "python"
    }
  },
  "cells": [
    {
      "cell_type": "markdown",
      "metadata": {
        "id": "view-in-github",
        "colab_type": "text"
      },
      "source": [
        "<a href=\"https://colab.research.google.com/github/kpmadabhu/EEE598_proj_tuh_eeg/blob/main/EEE598_Proj_TUH_EEG.ipynb\" target=\"_parent\"><img src=\"https://colab.research.google.com/assets/colab-badge.svg\" alt=\"Open In Colab\"/></a>"
      ]
    },
    {
      "cell_type": "markdown",
      "source": [
        "# TUSZ Preprocessing Pipeline\n",
        "\n",
        "This notebook builds a seizure vs background window dataset from TUH Seizure Corpus (TUSZ) tcp-bipolar montage EEG.\n",
        "\n",
        "- Recursively walks `train/`, `dev/`, or `eval` under `ROOT_DIR`.\n",
        "- For each EDF:\n",
        "  - Load EEG + its seizure annotations (.csv).\n",
        "  - Bandpass 0.5–40 Hz using a Kaiser FIR, zero-phase (`filtfilt`).\n",
        "  - Downsample to 250 Hz *if* original fs is higher; never upsample.\n",
        "  - Robust z-score per channel (median/IQR).\n",
        "  - Slice into 10 s windows with 5 s hop.\n",
        "  - Label each window seizure(1) or background(0), pooling all seizure subtypes.\n",
        "- Skips recordings that are too short for `filtfilt` padding.\n",
        "- Saves:\n",
        "  - `split_windows.npz` with windows, labels, and metadata.\n",
        "  - `qc_window.png` plotting an informative example window.\n",
        "  - `class_balance.png` showing seizure/background counts.\n",
        "\n",
        "## Smart Canonical Montage (what makes THIS version special)\n",
        "We do **not** force a giant hard-coded canonical bipolar channel list upfront.\n",
        "Instead we learn a canonical layout from *inside the split*:\n",
        "\n",
        "1. The **first usable recording** becomes our **reference layout**.\n",
        "   - We store its channel names/ordering. Call this `ref_ch_names`.\n",
        "2. Every later recording is aligned to that same reference layout:\n",
        "   - For each reference channel name (like `FP1-F7`), we try to find the best-matching channel name in the new recording using a robust normalizer.\n",
        "   - If found, we copy that channel.\n",
        "   - If missing, we fill zeros in that row.\n",
        "3. We compute a **coverage ratio** = fraction of reference channels we could actually fill with real data from this recording.\n",
        "   - If coverage is too low (default <30%), we SKIP that recording to avoid mostly-zero data.\n",
        "\n",
        "\n",
        "## Runtime knobs\n",
        "- `MAX_SUBJECTS`: cap how many subjects to include (fast debug).\n",
        "- `MAX_RECORDINGS`: cap recordings per subject (or overall).\n",
        "- `NUM_TAPS`: FIR length. Shorter => fewer clips skipped for being \"too short\".\n",
        "- `GROUP_MODE`: iterate by `\"subject\"` or just all EDFs (`\"recording\"`).\n",
        "- `min_coverage`: skip a recording if < this fraction of reference channels could be mapped."
      ],
      "metadata": {
        "id": "FiN7a_NFCib2"
      }
    },
    {
      "cell_type": "code",
      "execution_count": null,
      "metadata": {
        "id": "n6_pj_p4yc6D"
      },
      "outputs": [],
      "source": [
        "import numpy as np\n",
        "import pandas as pd\n",
        "import matplotlib.pyplot as plt\n",
        "from pathlib import Path\n",
        "import mne\n",
        "from scipy.signal import firwin, filtfilt, resample_poly\n",
        "from math import gcd\n",
        "import io, re\n",
        "\n",
        "# ------------------ USER CONFIG ------------------\n",
        "# Point this at the root of the TUSZ split folders that contain train/dev/eval\n",
        "ROOT_DIR = Path(\"Enter the mounted onedrive location of the edf folder of tusz database\").expanduser().resolve()\n",
        "\n",
        "# Output directory for NPZ + plots\n",
        "OUT_DIR  = Path(\"output folder to save the windows ans coverage stats\").expanduser().resolve()\n",
        "OUT_DIR.mkdir(parents=True, exist_ok=True)\n",
        "\n",
        "# Windowing params\n",
        "WIN_LEN_S = 10.0   # seconds per window\n",
        "HOP_S     = 5.0    # seconds hop (50% overlap)\n",
        "\n",
        "# DSP params\n",
        "NUM_TAPS  = 1001    # Kaiser FIR taps for bandpass 0.5-40Hz (shorter -> fewer skips)\n",
        "TARGET_FS = 250.0  # We'll downsample to 250 Hz if fs_orig > 250 Hz; never upsample\n",
        "\n",
        "# Runtime limiting params\n",
        "MAX_SUBJECTS   = 10        # limit number of subjects used (debug speed). None = no explicit cap\n",
        "MAX_RECORDINGS = 10      # max recordings per subject / overall. None = no explicit cap\n",
        "GROUP_MODE     = \"subject\" # \"subject\" or \"recording\"\n",
        "\n",
        "# Seizure subtype labels we consider \"seizure\" (label=1)\n",
        "# Everything else becomes background (label=0)\n",
        "SEIZURE_LABELS = {\n",
        "    'seiz','fnsz','gnsz','spsz','cpsz','absz',\n",
        "    'tnsz','cnsz','tcsz','atsz','mysz'\n",
        "}\n",
        "\n",
        "print(\"ROOT_DIR:\", ROOT_DIR)\n",
        "print(\"OUT_DIR:\", OUT_DIR)\n"
      ]
    }
  ]
}